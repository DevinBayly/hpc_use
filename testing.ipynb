{
 "cells": [
  {
   "cell_type": "code",
   "execution_count": 2,
   "metadata": {},
   "outputs": [],
   "source": [
    "import pandas as pd\n",
    "from pathlib import Path\n",
    "import json\n",
    "\n",
    "jsons = sorted(Path().glob(\"works*.json\"))\n",
    "\n",
    "def make_data_frame(work_jsons):\n",
    "    # handles a list of jsons that we construct a dataframe from\n",
    "    all_works = []\n",
    "    for work in work_jsons:\n",
    "        all_works.extend(json.loads(work.read_text()))\n",
    "    return pd.DataFrame(all_works)\n",
    "\n",
    "df = make_data_frame(jsons)"
   ]
  },
  {
   "cell_type": "code",
   "execution_count": null,
   "metadata": {},
   "outputs": [],
   "source": []
  },
  {
   "cell_type": "code",
   "execution_count": 6,
   "metadata": {},
   "outputs": [
    {
     "name": "stdout",
     "output_type": "stream",
     "text": [
      "dict_keys(['Scaling', 'Exponent', 'Tree (set theory)', 'Mathematics', 'Regression analysis', 'Statistics', 'Competition (biology)', 'Linear regression', 'Regression', 'Ecology', 'Biology', 'Combinatorics', 'Geometry', 'Philosophy', 'Linguistics', 'Environmental science', 'Basal area', 'Climate change', 'Diameter at breast height', 'Precipitation', 'Forest dynamics', 'Canopy', 'Bayesian probability', 'Forest management', 'Ecosystem', 'Geography', 'Meteorology', 'Forestry', 'Agroforestry', 'Mathematical analysis', 'Cyberinfrastructure', 'Cloud computing', 'Computer science', 'Data science', 'Data management', 'Distributed computing', 'Database', 'Operating system', 'Lidar', 'Hyperspectral imaging', 'Remote sensing', 'Vegetation (pathology)', 'Sensor fusion', 'Arid', 'Digital elevation model', 'Artificial intelligence', 'Medicine', 'Archaeology', 'Pathology', 'Watershed', 'Hydrology (agriculture)', 'Range (aeronautics)', 'Drainage basin', 'Elevation (ballistics)', 'Physical geography', 'Atmospheric sciences', 'Carbon dioxide', 'Geology', 'Oceanography', 'Materials science', 'Geotechnical engineering', 'Machine learning', 'Composite number', 'Composite material', 'Cartography', 'Dendrochronology', 'Insolation', 'Weathering', 'Landslide', 'Ridge', 'Geomorphology', 'Climatology', 'Paleontology', 'Latitude', 'Water content', 'Geodesy', 'Photogrammetry', 'Point cloud', 'Algorithm', 'Motion estimation', 'Computer vision', 'Snow', 'Soil water', 'Surface runoff', 'Soil science', 'Software deployment', 'Atmosphere (unit)', 'Key (lock)', 'Resource (disambiguation)', 'Systems engineering', 'Earth science', 'Engineering', 'Physics', 'Computer network', 'Bubble', 'Library science', 'Forage', 'Drone', 'Satellite', 'Scale (ratio)', 'Filter (signal processing)', 'Aerospace engineering', 'Genetics', 'Infiltration (HVAC)', 'Groundwater', 'Habitat', 'Allometry', 'Botany', 'Photosynthesis', 'Gene', 'Workflow', 'Scalability', 'Reuse', 'Set (abstract data type)', 'Best practice', 'Metadata', 'World Wide Web', 'Management', 'Economics', 'Programming language', 'Evolutionary biology', 'Indigenous', 'Demography', 'Genealogy', 'History', 'Population', 'Sociology', 'Software', 'Container (type theory)', 'Software engineering', 'Mechanical engineering', 'Germplasm', 'Computational biology', 'Agronomy', 'Multimedia', 'Process (computing)', 'Adaptive optics', 'Speckle pattern', 'Contrast (vision)', 'Frame (networking)', 'Data reduction', 'Data set', 'Noise reduction', 'Detector', 'Frame rate', 'Optics', 'Image (mathematics)', 'Stars', 'Data mining', 'Telecommunications', 'Annotation', 'Backup', 'Upload', 'Graphical user interface', 'User interface', 'Web service', 'Attendance', 'Public health', 'Program evaluation', 'Behavior change', 'Gerontology', 'Anthropometry', 'Intervention (counseling)', 'Psychology', 'Physical therapy', 'Obesity', 'Family medicine', 'Nursing', 'Public administration', 'Political science', 'Internal medicine', 'Economic growth', 'Family history', 'Diabetes mellitus', 'Risk factor', 'Blood pressure', 'Endocrinology', 'Astrophysics', 'RADIUS', 'Planet', 'Accretion (finance)', 'Astronomy', 'Computer security', 'Usability', 'Human–computer interaction', 'Outreach', 'Public relations', 'Scholarship', 'Openness to experience', 'Dialog box', 'Medical education', 'Engineering ethics', 'Social psychology', 'Law', 'Citation', 'Strengths and weaknesses', 'Knowledge management', 'Information retrieval', 'Epistemology', 'Politics', 'Petroleum engineering', 'Lens (geology)', 'Service (business)', 'Focus (optics)', 'Work (physics)', 'Economy', 'Quantum mechanics', 'Interpreter', 'Trainer', 'Visualization', 'Interdependence', 'Cache', 'Massively parallel', 'Parallel computing', 'Matching (statistics)', 'Embedding', 'Resampling', 'Cluster (spacecraft)', 'Space (punctuation)', 'Nonlinear system', 'Mathematical optimization', 'Thermodynamics', 'SPHERES', 'Computation', 'Collision', 'Speedup', 'Resolution (logic)', 'Computer graphics (images)', 'Topology (electrical circuits)', 'Electrical engineering', 'Topological data analysis', 'Python (programming language)', 'Theoretical computer science', 'Bootstrapping (finance)', 'Discriminative model', 'Information extraction', 'Financial economics', 'Popularity', 'Point (geometry)', 'Rendering (computer graphics)', 'Generative grammar', 'Volume (thermodynamics)', 'Computer graphics', 'Fractional calculus', 'Discretization', 'Derivative (finance)', 'Applied mathematics', 'Partial derivative', 'Differential operator', 'Measure (data warehouse)', 'Calculus (dental)', 'Multivariable calculus', 'Dentistry', 'Banach space', 'Chemistry', 'Biochemistry', 'Control engineering', 'Finite element method', 'Classification of discontinuities', 'Polynomial', 'Field (mathematics)', 'Scalar (mathematics)', 'Pipeline (software)', 'Structural engineering', 'Pure mathematics'])\n",
      "[3, 1, 3, 18, 1, 3, 1, 1, 1, 11, 14, 8, 9, 2, 1, 10, 2, 3, 3, 3, 2, 3, 1, 2, 5, 10, 7, 1, 2, 4, 6, 12, 44, 8, 3, 5, 7, 13, 2, 1, 4, 3, 1, 2, 1, 11, 7, 2, 4, 2, 5, 4, 1, 2, 3, 3, 1, 9, 1, 4, 5, 4, 1, 4, 2, 1, 1, 1, 1, 1, 2, 1, 2, 1, 1, 1, 2, 2, 6, 1, 5, 2, 1, 1, 1, 5, 2, 3, 4, 1, 1, 16, 10, 4, 4, 2, 1, 1, 1, 4, 2, 1, 5, 1, 1, 1, 1, 1, 1, 6, 4, 2, 1, 1, 2, 1, 5, 1, 5, 8, 1, 1, 1, 1, 1, 1, 1, 6, 3, 6, 4, 1, 1, 1, 1, 2, 1, 1, 1, 1, 1, 1, 1, 1, 1, 2, 2, 2, 5, 1, 2, 1, 1, 1, 1, 1, 1, 1, 1, 1, 1, 1, 1, 3, 1, 2, 1, 1, 1, 5, 2, 1, 1, 1, 1, 1, 1, 1, 1, 1, 1, 2, 2, 1, 2, 1, 1, 1, 1, 1, 1, 1, 2, 4, 1, 1, 1, 2, 1, 1, 1, 1, 1, 1, 2, 1, 5, 1, 1, 5, 2, 2, 2, 4, 1, 1, 1, 1, 1, 1, 1, 1, 1, 1, 1, 1, 1, 2, 13, 6, 3, 3, 1, 1, 1, 1, 2, 1, 2, 1, 1, 1, 1, 1, 1, 1, 1, 1, 1, 1, 1, 1, 1, 1, 2, 2, 1, 1, 1, 1, 1, 1, 1, 1, 1]\n"
     ]
    }
   ],
   "source": [
    "from pyalex import Concepts\n",
    "concepts = Concepts()\n",
    "found_concepts = {}\n",
    "for i in range(len(df)):\n",
    "    for concept in df['concepts'].iloc[i]:\n",
    "        if concept[\"level\"] > 2:\n",
    "            continue\n",
    "        if concept[\"display_name\"] not in found_concepts:\n",
    "            found_concepts[concept[\"display_name\"]] = [1, concept[\"id\"]]\n",
    "        else:\n",
    "            found_concepts[concept[\"display_name\"]][0] += 1\n",
    "\n",
    "concept_names = found_concepts.keys()\n",
    "concept_counts = [val for val, _ in found_concepts.values()]\n",
    "concept_parents = []\n",
    "print(concept_names)\n",
    "print(concept_counts)\n",
    "## this part seems to take the most time, need to understand it better\n",
    "#for concept in tqdm(found_concepts.values()):\n",
    "#    ancestors = concepts[concept[1]][\"ancestors\"]\n",
    "#    if len(ancestors) == 0:\n",
    "#        concept_parents.append(\"\")\n",
    "#    else:\n",
    "#        concept_parents.append(ancestors[0][\"display_name\"])\n"
   ]
  },
  {
   "cell_type": "code",
   "execution_count": 12,
   "metadata": {},
   "outputs": [
    {
     "name": "stderr",
     "output_type": "stream",
     "text": [
      "100%|██████████| 22/22 [00:16<00:00,  1.36it/s]\n"
     ]
    }
   ],
   "source": [
    "import requests as rq\n",
    "from tqdm import tqdm\n",
    "topics = []\n",
    "per_page = 200\n",
    "headers = {\"mailto\":\"baylyd@arizona.edu\"}\n",
    "pages = 4516//per_page + 1\n",
    "# for i in tqdm(range(pages)):\n",
    "for i in tqdm(range(1,pages)):\n",
    "    res = rq.get(f\"https://api.openalex.org/topics?per-page={per_page}&page={i}\",headers=headers).json()[\"results\"]\n",
    "    topics.extend(res)"
   ]
  },
  {
   "cell_type": "code",
   "execution_count": 20,
   "metadata": {},
   "outputs": [
    {
     "data": {
      "text/plain": [
       "30116024"
      ]
     },
     "execution_count": 20,
     "metadata": {},
     "output_type": "execute_result"
    }
   ],
   "source": [
    "Path(\"all_topics_list.json\").write_text(json.dumps(topics))"
   ]
  },
  {
   "cell_type": "code",
   "execution_count": 18,
   "metadata": {},
   "outputs": [],
   "source": [
    "t = topics[0]"
   ]
  },
  {
   "cell_type": "code",
   "execution_count": 21,
   "metadata": {},
   "outputs": [
    {
     "data": {
      "text/plain": [
       "30337506"
      ]
     },
     "execution_count": 21,
     "metadata": {},
     "output_type": "execute_result"
    }
   ],
   "source": [
    "# need to make a map that takes us from topic to the relevant s,f,d pairing\n",
    "topic_map = {t[\"display_name\"]:t for t in topics}\n",
    "Path(\"all_topics.json\").write_text(json.dumps(topic_map))"
   ]
  },
  {
   "cell_type": "code",
   "execution_count": 24,
   "metadata": {},
   "outputs": [
    {
     "ename": "SyntaxError",
     "evalue": "invalid syntax (1176741501.py, line 9)",
     "output_type": "error",
     "traceback": [
      "\u001b[0;36m  Cell \u001b[0;32mIn[24], line 9\u001b[0;36m\u001b[0m\n\u001b[0;31m    field_name = topic[]\u001b[0m\n\u001b[0m                       ^\u001b[0m\n\u001b[0;31mSyntaxError\u001b[0m\u001b[0;31m:\u001b[0m invalid syntax\n"
     ]
    }
   ],
   "source": [
    "pairs=[]\n",
    "# \n",
    "for i in range(len(df)):\n",
    "    for topic in df['topics'].iloc[i]:\n",
    "        # we add the child to the label, and the parent to the parents\n",
    "        # same thing for each piece of hierarch stopping show of domain since \n",
    "        topic_name = topic[\"display_name\"]\n",
    "        subfield_name = topic[\"subfield\"][\"display_name\"]\n",
    "        field_name = topic[\"field\"][\"display_name\"]\n",
    "        domain_name = topic[\"domain\"][\"display_name\"]\n",
    "        pairs.append((\n",
    "            topic_name,subfield_name\n",
    "        ))\n",
    "        pairs.append((\n",
    "            subfield_name,field_name\n",
    "        ))\n",
    "        pairs.append((\n",
    "            field_name,domain_name\n",
    "        ))\n",
    "        pairs.append((\n",
    "            domain_name,\"\"\n",
    "        ))\n",
    "\n",
    "\n",
    "# run a set simplification on the pairs at the end so that we don't have duplicate matches\n",
    "        \n"
   ]
  },
  {
   "cell_type": "code",
   "execution_count": 23,
   "metadata": {},
   "outputs": [
    {
     "data": {
      "text/plain": [
       "[{'id': 'https://openalex.org/T10266',\n",
       "  'display_name': 'Global Forest Drought Response and Climate Change',\n",
       "  'score': 0.9997,\n",
       "  'subfield': {'id': 'https://openalex.org/subfields/2306',\n",
       "   'display_name': 'Global and Planetary Change'},\n",
       "  'field': {'id': 'https://openalex.org/fields/23',\n",
       "   'display_name': 'Environmental Science'},\n",
       "  'domain': {'id': 'https://openalex.org/domains/3',\n",
       "   'display_name': 'Physical Sciences'}},\n",
       " {'id': 'https://openalex.org/T11880',\n",
       "  'display_name': 'Estimation of Forest Biomass and Carbon Stocks',\n",
       "  'score': 0.9991,\n",
       "  'subfield': {'id': 'https://openalex.org/subfields/2309',\n",
       "   'display_name': 'Nature and Landscape Conservation'},\n",
       "  'field': {'id': 'https://openalex.org/fields/23',\n",
       "   'display_name': 'Environmental Science'},\n",
       "  'domain': {'id': 'https://openalex.org/domains/3',\n",
       "   'display_name': 'Physical Sciences'}},\n",
       " {'id': 'https://openalex.org/T10005',\n",
       "  'display_name': 'Biodiversity Conservation and Ecosystem Management',\n",
       "  'score': 0.9983,\n",
       "  'subfield': {'id': 'https://openalex.org/subfields/2309',\n",
       "   'display_name': 'Nature and Landscape Conservation'},\n",
       "  'field': {'id': 'https://openalex.org/fields/23',\n",
       "   'display_name': 'Environmental Science'},\n",
       "  'domain': {'id': 'https://openalex.org/domains/3',\n",
       "   'display_name': 'Physical Sciences'}}]"
      ]
     },
     "execution_count": 23,
     "metadata": {},
     "output_type": "execute_result"
    }
   ],
   "source": [
    "df[\"topics\"][0]"
   ]
  },
  {
   "cell_type": "code",
   "execution_count": null,
   "metadata": {},
   "outputs": [],
   "source": [
    "for t in found_topics.keys():\n",
    "    "
   ]
  }
 ],
 "metadata": {
  "kernelspec": {
   "display_name": "Python 3",
   "language": "python",
   "name": "python3"
  },
  "language_info": {
   "codemirror_mode": {
    "name": "ipython",
    "version": 3
   },
   "file_extension": ".py",
   "mimetype": "text/x-python",
   "name": "python",
   "nbconvert_exporter": "python",
   "pygments_lexer": "ipython3",
   "version": "3.10.13"
  }
 },
 "nbformat": 4,
 "nbformat_minor": 2
}
